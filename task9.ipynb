{
 "cells": [
  {
   "cell_type": "code",
   "execution_count": 1,
   "metadata": {},
   "outputs": [
    {
     "name": "stdout",
     "output_type": "stream",
     "text": [
      "enter first number15\n",
      "enter second number10\n",
      "15\n",
      "10\n"
     ]
    }
   ],
   "source": [
    "num1 = input(\"enter first number\")\n",
    "num2 = input(\"enter second number\")\n",
    "print(num1)\n",
    "print(num2)"
   ]
  },
  {
   "cell_type": "code",
   "execution_count": 2,
   "metadata": {},
   "outputs": [
    {
     "name": "stdout",
     "output_type": "stream",
     "text": [
      "Please select operation -\n",
      "1. Add\n",
      "2. Subtract\n",
      "3. Multiply\n",
      "4. Divide\n",
      "\n",
      "select operations from 15, 10 :4\n"
     ]
    }
   ],
   "source": [
    "def add (num1, num2):\n",
    "    return num1 + num2\n",
    "def subtract (num1, num2):\n",
    "    return num1 - num2\n",
    "def multiply (num1, num2):\n",
    "    return num1 * num2\n",
    "def divide (num1, num2):\n",
    "    return num1 / num2\n",
    "print(\"Please select operation -\\n\"  \n",
    "        \"1. Add\\n\" \n",
    "        \"2. Subtract\\n\"  \n",
    "        \"3. Multiply\\n\"  \n",
    "        \"4. Divide\\n\")\n",
    "a = int(input(\"select operations from 15, 10 :\"))"
   ]
  },
  {
   "cell_type": "code",
   "execution_count": 3,
   "metadata": {},
   "outputs": [
    {
     "name": "stdout",
     "output_type": "stream",
     "text": [
      "enter first number :15\n",
      "enter second number :10\n",
      "15 / 10 = 1.5\n"
     ]
    }
   ],
   "source": [
    "num1 = int(input(\"enter first number :\"))\n",
    "num2 = int(input(\"enter second number :\"))\n",
    "if a == 4:\n",
    "    print(num1, \"/\", num2, \"=\", divide(num1, num2))\n",
    "else:\n",
    "        print(\"invalid input\")"
   ]
  },
  {
   "cell_type": "code",
   "execution_count": null,
   "metadata": {},
   "outputs": [],
   "source": []
  }
 ],
 "metadata": {
  "kernelspec": {
   "display_name": "Python 3",
   "language": "python",
   "name": "python3"
  },
  "language_info": {
   "codemirror_mode": {
    "name": "ipython",
    "version": 3
   },
   "file_extension": ".py",
   "mimetype": "text/x-python",
   "name": "python",
   "nbconvert_exporter": "python",
   "pygments_lexer": "ipython3",
   "version": "3.7.6"
  }
 },
 "nbformat": 4,
 "nbformat_minor": 4
}
