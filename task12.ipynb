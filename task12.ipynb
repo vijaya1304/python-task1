{
 "cells": [
  {
   "cell_type": "code",
   "execution_count": 4,
   "metadata": {},
   "outputs": [
    {
     "name": "stdout",
     "output_type": "stream",
     "text": [
      "((1, 'waffle'), (2, 'chocolate'), (3, 'cookie'), (4, 'icecream'))\n"
     ]
    }
   ],
   "source": [
    "#zip()\n",
    "#zip function returns a zip object in tuples, the the items passed in tuple will paired together\n",
    "#if the passed items length doesn't match the then it'll check for the length of the new item\n",
    "a = (1,2,3,4)\n",
    "b = ('waffle', 'chocolate', 'cookie', 'icecream')\n",
    "c = zip(a,b)\n",
    "print(tuple(c))"
   ]
  },
  {
   "cell_type": "code",
   "execution_count": 5,
   "metadata": {},
   "outputs": [
    {
     "name": "stdout",
     "output_type": "stream",
     "text": [
      "((1, 'waffle'), (2, 'chocolate'), (3, 'cookie'), (4, 'icecream'))\n"
     ]
    }
   ],
   "source": [
    "a = (1,2,3,4,5)    #if the items in tuple doesnot match the length it'll get ingnored.\n",
    "b = ('waffle', 'chocolate', 'cookie', 'icecream')\n",
    "c = zip(a,b)\n",
    "print(tuple(c))"
   ]
  },
  {
   "cell_type": "code",
   "execution_count": 8,
   "metadata": {},
   "outputs": [
    {
     "name": "stdout",
     "output_type": "stream",
     "text": [
      "((0, 'waffle'), (1, 'chocolate'), (2, 'cookie'), (3, 'icecream'))\n"
     ]
    }
   ],
   "source": [
    "#enumerate()\n",
    "#The enumerate() function takes a collection items and returns it as an enumerate object\n",
    "#function adds a counter as the key of the enumerate object\n",
    "a = ('waffle', 'chocolate', 'cookie', 'icecream')   #syntax: enumerate(iterable, start)\n",
    "b = enumerate(a)\n",
    "print(tuple(b))"
   ]
  },
  {
   "cell_type": "code",
   "execution_count": 9,
   "metadata": {},
   "outputs": [
    {
     "name": "stdout",
     "output_type": "stream",
     "text": [
      "[(0, 'waffle'), (1, 'chocolate'), (2, 'cookie'), (3, 'icecream')]\n"
     ]
    }
   ],
   "source": [
    "a = ('waffle', 'chocolate', 'cookie', 'icecream')\n",
    "b = enumerate(a)\n",
    "print(list(b))"
   ]
  },
  {
   "cell_type": "code",
   "execution_count": 12,
   "metadata": {},
   "outputs": [
    {
     "name": "stdout",
     "output_type": "stream",
     "text": [
      "{0: 'name', 1: 'color'}\n"
     ]
    }
   ],
   "source": [
    "a = {\"name\":\"mickey\",\n",
    "    \"color\":\"red\"\n",
    "    }\n",
    "b=enumerate(a)\n",
    "print(dict(b))"
   ]
  },
  {
   "cell_type": "code",
   "execution_count": 14,
   "metadata": {},
   "outputs": [
    {
     "name": "stdout",
     "output_type": "stream",
     "text": [
      "{(1, 'python'), (0, 'sql'), (3, 'mickey'), (2, 2)}\n"
     ]
    }
   ],
   "source": [
    "a = {'mickey',2,'python','sql'}\n",
    "b=enumerate(a)\n",
    "print(set(b))"
   ]
  },
  {
   "cell_type": "code",
   "execution_count": 15,
   "metadata": {},
   "outputs": [
    {
     "data": {
      "text/plain": [
       "10"
      ]
     },
     "execution_count": 15,
     "metadata": {},
     "output_type": "execute_result"
    }
   ],
   "source": [
    "#reduce()\n",
    "# syntax: reduce(function, sequence[, initial]) -> value\n",
    "from functools import reduce\n",
    "def do_sum(x1, x2): return x1 + x2\n",
    "reduce(do_sum, [1, 2, 3, 4])"
   ]
  },
  {
   "cell_type": "code",
   "execution_count": 16,
   "metadata": {},
   "outputs": [
    {
     "data": {
      "text/plain": [
       "200"
      ]
     },
     "execution_count": 16,
     "metadata": {},
     "output_type": "execute_result"
    }
   ],
   "source": [
    "from functools import reduce\n",
    "def mul(a,b): return a*b\n",
    "reduce(mul,[10,20])"
   ]
  },
  {
   "cell_type": "code",
   "execution_count": null,
   "metadata": {},
   "outputs": [],
   "source": []
  }
 ],
 "metadata": {
  "kernelspec": {
   "display_name": "Python 3",
   "language": "python",
   "name": "python3"
  },
  "language_info": {
   "codemirror_mode": {
    "name": "ipython",
    "version": 3
   },
   "file_extension": ".py",
   "mimetype": "text/x-python",
   "name": "python",
   "nbconvert_exporter": "python",
   "pygments_lexer": "ipython3",
   "version": "3.7.6"
  }
 },
 "nbformat": 4,
 "nbformat_minor": 4
}
